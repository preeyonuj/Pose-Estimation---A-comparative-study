{
 "cells": [
  {
   "cell_type": "markdown",
   "id": "490a8c29",
   "metadata": {},
   "source": [
    "# Imports"
   ]
  },
  {
   "cell_type": "code",
   "execution_count": 2,
   "id": "56108540",
   "metadata": {},
   "outputs": [
    {
     "name": "stderr",
     "output_type": "stream",
     "text": [
      "d:\\data_science\\python\\lib\\site-packages\\numpy\\_distributor_init.py:30: UserWarning: loaded more than 1 DLL from .libs:\n",
      "d:\\data_science\\python\\lib\\site-packages\\numpy\\.libs\\libopenblas.FB5AE2TYXYH2IJRDKGDGQ3XBKLKTF43H.gfortran-win_amd64.dll\n",
      "d:\\data_science\\python\\lib\\site-packages\\numpy\\.libs\\libopenblas64__v0.3.21-gcc_10_3_0.dll\n",
      "  warnings.warn(\"loaded more than 1 DLL from .libs:\"\n"
     ]
    }
   ],
   "source": [
    "import cv2\n",
    "import matplotlib.pyplot as plt\n",
    "import copy\n",
    "import numpy as np\n",
    "import json\n",
    "import glob\n",
    "import pandas as pd\n",
    "\n",
    "import model\n",
    "import util\n",
    "from body import Body"
   ]
  },
  {
   "cell_type": "markdown",
   "id": "c535812a",
   "metadata": {},
   "source": [
    "# Matching keypoints from model to UAV Human Dataset"
   ]
  },
  {
   "cell_type": "code",
   "execution_count": 3,
   "id": "2160680f",
   "metadata": {},
   "outputs": [],
   "source": [
    "# Index generated OpenPose model: Body Part name in UAV dataset\n",
    "\n",
    "body_part_index = {0: 'nose',\n",
    "#1: The model generates a neck but UAV doesn't have coordinates for neck\n",
    "2: 'rightShoulder',\n",
    "3: 'rightElbow',\n",
    "4: 'rightWrist',\n",
    "5: 'leftShoulder', \n",
    "6: 'leftElbow',\n",
    "7: 'leftWrist',\n",
    "8: 'rightHip',\n",
    "9: 'rightKnee',\n",
    "10: 'rightAnkle',\n",
    "11: 'leftHip',\n",
    "12: 'leftKnee',\n",
    "13: 'leftAnkle',\n",
    "14: 'rightEye',\n",
    "15: 'leftEye',\n",
    "16: 'rightEar',\n",
    "17: 'leftEar'}\n",
    "\n",
    "# Reverse the list to inverse reference\n",
    "index_body_part = {v: k for k, v in body_part_index.items()}"
   ]
  },
  {
   "cell_type": "markdown",
   "id": "5e4a5b48",
   "metadata": {},
   "source": [
    "# Defining Metric"
   ]
  },
  {
   "cell_type": "code",
   "execution_count": 4,
   "id": "9a1e997a",
   "metadata": {},
   "outputs": [],
   "source": [
    "def mAP(true_points, pred_points, thresh=5):\n",
    "    \n",
    "    # Initialize the precision and recall arrays\n",
    "    precision = np.zeros(len(true_points))\n",
    "    recall = np.zeros(len(true_points))\n",
    "    \n",
    "    pred_coords = []\n",
    "    true_coords = []\n",
    "    \n",
    "    for key in true_points.keys():\n",
    "        true_coords.append(true_points[key])\n",
    "        pred_coords.append(pred_points[key])\n",
    "    \n",
    "    # Iterate over each body part\n",
    "    for i in range(len(true_points)):\n",
    "        # Calculate the Euclidean distance between the predicted and ground truth coordinates for the body part\n",
    "        dist = np.linalg.norm(np.array(pred_coords[i]) - np.array(true_coords[i]))\n",
    "\n",
    "        # Assign a label of 1 (true positive) or 0 (false positive) based on whether the distance is below or above the threshold\n",
    "        label = int(dist <= thresh)\n",
    "\n",
    "        # Update the precision and recall arrays\n",
    "        if label == 1:\n",
    "            precision[i] = 1\n",
    "            recall[i] = 1\n",
    "        else:\n",
    "            precision[i] = 0\n",
    "            recall[i] = 0\n",
    "\n",
    "    # Calculate the cumulative precision and recall arrays\n",
    "    cum_precision = np.cumsum(precision) / (np.arange(len(true_points)) + 1)\n",
    "    cum_recall = np.cumsum(recall) / len(true_points)\n",
    "\n",
    "    # Calculate the average precision\n",
    "    ap = np.sum((cum_recall[1:] - cum_recall[:-1]) * cum_precision[1:])\n",
    "\n",
    "    return ap"
   ]
  },
  {
   "cell_type": "markdown",
   "id": "ffd5e12e",
   "metadata": {},
   "source": [
    "# Essential Functions"
   ]
  },
  {
   "cell_type": "code",
   "execution_count": 5,
   "id": "338ce4e6",
   "metadata": {},
   "outputs": [],
   "source": [
    "# Load pre-trained models\n",
    "body_estimation = Body('body_pose_model.pth')\n",
    "\n",
    "# Denormalizing function to match UAV Human Dataset coordinate format\n",
    "def denorm(x, y, img):\n",
    "    w, h, _ = img.shape\n",
    "    d_x = (x/h)*100\n",
    "    d_y = (y/w)*100\n",
    "    \n",
    "    return d_x, d_y\n",
    "\n",
    "# Function to read JSON file\n",
    "def read_json(json_file):\n",
    "    # Dictionaries to hold body parts and its corresponding coordinates\n",
    "    part_dict = {}\n",
    "    corr_part_dict = {}\n",
    "    \n",
    "    # Opening JSON file\n",
    "    f = open(json_file)\n",
    "\n",
    "    # returns JSON object as \n",
    "    # a dictionary\n",
    "    data = json.load(f)\n",
    "\n",
    "    # Closing file\n",
    "    f.close()\n",
    "    \n",
    "    # Extracts body parts from UAV Human file specific JSON file\n",
    "    for part in data['completions'][0]['result']:\n",
    "        if part['value']['keypointlabels'][0] in body_part_index.values():\n",
    "            part_dict[part['value']['keypointlabels'][0]] = [part['value']['x'], part['value']['y']]\n",
    "    \n",
    "    # Checks if every body part is present in the file, else fills it with [0.0, 0.0]\n",
    "    for body_part in body_part_index.values():\n",
    "        if body_part in part_dict.keys():\n",
    "            corr_part_dict[body_part] = part_dict[body_part]\n",
    "        else:\n",
    "            corr_part_dict[body_part] = [0.0, 0.0]\n",
    "\n",
    "    return corr_part_dict\n",
    "    \n",
    "\n",
    "# Function to predict keypoints and draw it on an image\n",
    "def predict_n_draw(image_path, labels, zero_ind):\n",
    "    # Reading an image\n",
    "    oriImg = cv2.imread(image_path)  # B,G,R order\n",
    "    coords = {}\n",
    "    \n",
    "    # Generate Candidate and Subset\n",
    "    # Candidate contains coordinates of the body parts along with the index and score\n",
    "    # Subset contains information about different people in the image and which point belongs to which subject\n",
    "    # along with the count and score\n",
    "    candidate, subset = body_estimation(oriImg)\n",
    "    \n",
    "    # If in case, the model was not able to predict anything, and the candidate list is empty\n",
    "    if np.shape(candidate)[0] == 0:\n",
    "        canvas = copy.deepcopy(oriImg)\n",
    "        plt.imshow(canvas[:, :, [2, 1, 0]])\n",
    "        plt.axis('off')\n",
    "        plt.show()\n",
    "        return None, None\n",
    "\n",
    "    # Denormalizing points to match the format of UAV Human Dataset\n",
    "    x, y = denorm(candidate[:, 0], candidate[:, 1], oriImg)\n",
    "    \n",
    "    # If the true label of a body part is [0,0], i.e. it doesn't exist in the data\n",
    "    for i in range(len(x)):\n",
    "        if i in zero_ind:\n",
    "            coords[body_part_index[i]] = [0.0, 0.0]\n",
    "        elif i in labels:\n",
    "            coords[body_part_index[i]] = [x[i], y[i]]\n",
    "    \n",
    "    # Draw the image and the points on it\n",
    "    canvas = copy.deepcopy(oriImg)\n",
    "    canvas = util.draw_bodypose(canvas, candidate, subset)\n",
    "    \n",
    "    plt.imshow(canvas[:, :, [2, 1, 0]])\n",
    "    plt.axis('off')\n",
    "    plt.show()\n",
    "    return coords, subset\n"
   ]
  },
  {
   "cell_type": "markdown",
   "id": "d501f91d",
   "metadata": {},
   "source": [
    "# Read test files"
   ]
  },
  {
   "cell_type": "code",
   "execution_count": 6,
   "id": "af9246be",
   "metadata": {},
   "outputs": [],
   "source": [
    "# Read file names from the test file\n",
    "with open(r'..\\\\test_files.txt', 'r') as f:\n",
    "    test_files = f.readlines()\n",
    "f.close()\n",
    "\n",
    "test_files = [i[:-1] for i in test_files]"
   ]
  },
  {
   "cell_type": "markdown",
   "id": "9bab5783",
   "metadata": {},
   "source": [
    "# Generate Body Keypoints"
   ]
  },
  {
   "cell_type": "code",
   "execution_count": null,
   "id": "0f4d2369",
   "metadata": {
    "scrolled": true
   },
   "outputs": [],
   "source": [
    "# List to store image names\n",
    "img_names = []\n",
    "\n",
    "# List to store the class of the files\n",
    "class_names = []\n",
    "\n",
    "# List to store the mAP values\n",
    "mAP_list = []\n",
    "\n",
    "# Individual list to store the predicted values of X and Y \n",
    "# coordinates of the body parts\n",
    "pred_x = []\n",
    "pred_y = []\n",
    "\n",
    "# Individual list to store the ground truth values of X and Y \n",
    "# coordinates of the body parts\n",
    "true_x = []\n",
    "true_y = []\n",
    "\n",
    "# Class path\n",
    "folder_path = \"..\\\\classes\\\\\"\n",
    "\n",
    "# Count of number of files\n",
    "cnt = 0\n",
    "        \n",
    "# Iterate over the files and generate keypoints\n",
    "for filepath in test_files:\n",
    "    # Extract class and image name\n",
    "    class_name = filepath.rsplit(\"\\\\\")[-2]\n",
    "    img_name = filepath.rsplit(\"\\\\\")[-1]\n",
    "    print(\"Class name:\", class_name)\n",
    "    print(\"Image Name:\", img_name)\n",
    "    \n",
    "    # List to capture parts that don't exist in groudn truth\n",
    "    zero_ind = []\n",
    "\n",
    "    # Get JSON and image path\n",
    "    label_path = folder_path+filepath.rsplit(\"\\\\\")[-2]+\"\\\\\"+filepath.rsplit('\\\\')[-1].rsplit('.')[0]+\".json\"\n",
    "    img_path = folder_path+filepath.rsplit(\"\\\\\")[-2]+\"\\\\\"+img_name\n",
    "\n",
    "    try:\n",
    "        # Get keypoints coordinates for each body part\n",
    "        true_labels = read_json(label_path)\n",
    "        \n",
    "        # If the part doesn't exist in groudn truth, get its index\n",
    "        for key in true_labels.keys():\n",
    "            if true_labels[key] == [0.0, 0.0]:\n",
    "                zero_ind.append(index_body_part[key])\n",
    "\n",
    "        # List to identify the body parts labeled within the image\n",
    "        true_label_present_list = [index_body_part[i] for i in list(true_labels.keys())]\n",
    "        \n",
    "        # Run OpenPose and get keypoints\n",
    "        pred_labels, subset = predict_n_draw(img_path, true_label_present_list, zero_ind)\n",
    "\n",
    "        # If model output is empty\n",
    "        if pred_labels is None and subset is None:\n",
    "            print(\"mAP: Undefined\", cnt)\n",
    "            cnt += 1\n",
    "            img_names.append(img_name)\n",
    "            class_names.append(class_name)\n",
    "            mAP_list.append(0.0)\n",
    "        else:\n",
    "            # If the body part in ground truth has coordinate [0.0, 0.0], then make\n",
    "            # predicted label 0 as well\n",
    "            for key in true_labels.keys():\n",
    "                if key not in pred_labels.keys():\n",
    "                    pred_labels[key] = [0.0, 0.0]\n",
    "\n",
    "            # Calculate mAP\n",
    "            output = mAP(true_labels, pred_labels)\n",
    "            # Append it to mAP list to keep count\n",
    "            mAP_list.append(output)\n",
    "            print(\"mAP:\", output, cnt)\n",
    "        \n",
    "            cnt += 1\n",
    "            img_names.append(img_name)\n",
    "            class_names.append(class_name)\n",
    "            # Get coordinates for MLP\n",
    "            # Predicted coordinates\n",
    "            pred_x.append([i[0] for i in list(pred_labels.values())])\n",
    "            pred_y.append([i[1] for i in list(pred_labels.values())])\n",
    "            # True coordinates\n",
    "            true_x.append([i[0] for i in list(true_labels.values())])\n",
    "            true_y.append([i[1] for i in list(true_labels.values())])\n",
    "            print(\"Number of true labels:\", len(true_labels))\n",
    "            print(\"Number of pred labels:\", len(pred_labels))\n",
    "        print(\"-\"*30)\n",
    "    except Exception as e:\n",
    "        # As a safety measure \n",
    "        print(\"Error:\", e)\n",
    "        img_names.append(img_name)\n",
    "        class_names.append(class_name)\n",
    "        mAP_list.append(-1)\n",
    "        print(\"-\"*30)"
   ]
  },
  {
   "cell_type": "markdown",
   "id": "6d143831",
   "metadata": {},
   "source": [
    "# Store results"
   ]
  },
  {
   "cell_type": "code",
   "execution_count": 8,
   "id": "5c716d5a",
   "metadata": {},
   "outputs": [],
   "source": [
    "# Store class name, image name and corresponding mAP values and store it in a datset\n",
    "results_df = pd.DataFrame({'class_name': class_names, 'image_name':img_names, 'mAP': mAP_list})\n",
    "results_df.to_csv(\"openpose_baseline_test_results.csv\", index=False)"
   ]
  },
  {
   "cell_type": "code",
   "execution_count": 9,
   "id": "07669de6",
   "metadata": {},
   "outputs": [
    {
     "name": "stdout",
     "output_type": "stream",
     "text": [
      "Mean mAP value of the entire dataset: 0.6334673667218156\n"
     ]
    }
   ],
   "source": [
    "print(\"Mean mAP value of the entire dataset:\", np.mean(results_df['mAP']))"
   ]
  },
  {
   "cell_type": "code",
   "execution_count": 10,
   "id": "9af4ed06",
   "metadata": {},
   "outputs": [],
   "source": [
    "# Store the true and predicted coordinates of body keypoints\n",
    "coords_df = pd.DataFrame({'true_x': true_x, 'true_y':true_y, \n",
    "                          'pred_x': pred_x, 'pred_y':pred_y})\n",
    "coords_df.to_csv(\"test_coords.csv\", index=False)"
   ]
  }
 ],
 "metadata": {
  "kernelspec": {
   "display_name": "Python 3",
   "language": "python",
   "name": "python3"
  },
  "language_info": {
   "codemirror_mode": {
    "name": "ipython",
    "version": 3
   },
   "file_extension": ".py",
   "mimetype": "text/x-python",
   "name": "python",
   "nbconvert_exporter": "python",
   "pygments_lexer": "ipython3",
   "version": "3.9.2"
  }
 },
 "nbformat": 4,
 "nbformat_minor": 5
}
