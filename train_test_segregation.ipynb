{
 "cells": [
  {
   "cell_type": "code",
   "execution_count": 1,
   "id": "48478c56",
   "metadata": {},
   "outputs": [],
   "source": [
    "import glob\n",
    "import random\n",
    "\n",
    "random.seed(42)\n",
    "\n",
    "class_path = r\".\\classes\\\\\"\n",
    "folders = glob.glob(class_path+\"*\")\n",
    "\n",
    "test_ratio = 0.2\n",
    "test_files = []\n",
    "train_files = []\n",
    "for fold in folders:\n",
    "    files = glob.glob(fold+\"\\\\*.jpg\")\n",
    "    train_size = int(len(files)*(1-test_ratio))\n",
    "    random.shuffle(files)\n",
    "    train_files.extend(files[:train_size])\n",
    "    test_files.extend(files[train_size:])\n",
    "\n",
    "with open('train_files.txt', 'w') as f:\n",
    "    for i in train_files:\n",
    "        f.write(i+\"\\n\")\n",
    "f.close()\n",
    "\n",
    "with open('test_files.txt', 'w') as f:\n",
    "    for i in test_files:\n",
    "        f.write(i+\"\\n\")\n",
    "f.close()"
   ]
  }
 ],
 "metadata": {
  "kernelspec": {
   "display_name": "Python 3",
   "language": "python",
   "name": "python3"
  },
  "language_info": {
   "codemirror_mode": {
    "name": "ipython",
    "version": 3
   },
   "file_extension": ".py",
   "mimetype": "text/x-python",
   "name": "python",
   "nbconvert_exporter": "python",
   "pygments_lexer": "ipython3",
   "version": "3.9.2"
  }
 },
 "nbformat": 4,
 "nbformat_minor": 5
}
